{
 "cells": [
  {
   "cell_type": "markdown",
   "id": "8c9786b7",
   "metadata": {},
   "source": [
    "# Importing dataset"
   ]
  },
  {
   "cell_type": "code",
   "execution_count": 95,
   "id": "3a1d9106",
   "metadata": {},
   "outputs": [],
   "source": [
    "import pandas as pd\n",
    "import numpy as np\n",
    "import tensorflow as tf\n"
   ]
  },
  {
   "cell_type": "code",
   "execution_count": 96,
   "id": "4f13a44f",
   "metadata": {},
   "outputs": [],
   "source": [
    "dataset = pd.read_csv(r\"Churn_Modelling.csv\")\n",
    "\n",
    "X = dataset.iloc[:, 3:-1].values\n",
    "y = dataset.iloc[: ,-1].values"
   ]
  },
  {
   "cell_type": "code",
   "execution_count": 97,
   "id": "3956d7ed",
   "metadata": {},
   "outputs": [
    {
     "data": {
      "text/plain": [
       "array([[619, 'France', 'Female', ..., 1, 1, 101348.88],\n",
       "       [608, 'Spain', 'Female', ..., 0, 1, 112542.58],\n",
       "       [502, 'France', 'Female', ..., 1, 0, 113931.57],\n",
       "       ...,\n",
       "       [709, 'France', 'Female', ..., 0, 1, 42085.58],\n",
       "       [772, 'Germany', 'Male', ..., 1, 0, 92888.52],\n",
       "       [792, 'France', 'Female', ..., 1, 0, 38190.78]], dtype=object)"
      ]
     },
     "execution_count": 97,
     "metadata": {},
     "output_type": "execute_result"
    }
   ],
   "source": [
    "X"
   ]
  },
  {
   "cell_type": "code",
   "execution_count": 98,
   "id": "80f4001a",
   "metadata": {},
   "outputs": [
    {
     "data": {
      "text/plain": [
       "array([1, 0, 1, ..., 1, 1, 0], dtype=int64)"
      ]
     },
     "execution_count": 98,
     "metadata": {},
     "output_type": "execute_result"
    }
   ],
   "source": [
    "y"
   ]
  },
  {
   "cell_type": "code",
   "execution_count": 99,
   "id": "ee8e247b",
   "metadata": {},
   "outputs": [
    {
     "data": {
      "text/plain": [
       "array([[619, 'France', 0, ..., 1, 1, 101348.88],\n",
       "       [608, 'Spain', 0, ..., 0, 1, 112542.58],\n",
       "       [502, 'France', 0, ..., 1, 0, 113931.57],\n",
       "       ...,\n",
       "       [709, 'France', 0, ..., 0, 1, 42085.58],\n",
       "       [772, 'Germany', 1, ..., 1, 0, 92888.52],\n",
       "       [792, 'France', 0, ..., 1, 0, 38190.78]], dtype=object)"
      ]
     },
     "execution_count": 99,
     "metadata": {},
     "output_type": "execute_result"
    }
   ],
   "source": [
    "from sklearn.preprocessing import LabelEncoder\n",
    "li = LabelEncoder()\n",
    "X[:,2] = li.fit_transform(X[:,2])\n",
    "X"
   ]
  },
  {
   "cell_type": "code",
   "execution_count": 100,
   "id": "2959e742",
   "metadata": {},
   "outputs": [],
   "source": [
    "from sklearn.preprocessing import OneHotEncoder\n",
    "from sklearn.compose import ColumnTransformer\n",
    "\n",
    "ct = ColumnTransformer(transformers=[('encoder',OneHotEncoder(),[1])],remainder='passthrough')\n",
    "X = np.array(ct.fit_transform(X))"
   ]
  },
  {
   "cell_type": "code",
   "execution_count": 101,
   "id": "a3855402",
   "metadata": {},
   "outputs": [
    {
     "data": {
      "text/plain": [
       "array([[1.0, 0.0, 0.0, ..., 1, 1, 101348.88],\n",
       "       [0.0, 0.0, 1.0, ..., 0, 1, 112542.58],\n",
       "       [1.0, 0.0, 0.0, ..., 1, 0, 113931.57],\n",
       "       ...,\n",
       "       [1.0, 0.0, 0.0, ..., 0, 1, 42085.58],\n",
       "       [0.0, 1.0, 0.0, ..., 1, 0, 92888.52],\n",
       "       [1.0, 0.0, 0.0, ..., 1, 0, 38190.78]], dtype=object)"
      ]
     },
     "execution_count": 101,
     "metadata": {},
     "output_type": "execute_result"
    }
   ],
   "source": [
    "X"
   ]
  },
  {
   "cell_type": "markdown",
   "id": "371f8965",
   "metadata": {},
   "source": [
    "# Splitting Dataset"
   ]
  },
  {
   "cell_type": "code",
   "execution_count": 102,
   "id": "0188e705",
   "metadata": {},
   "outputs": [],
   "source": [
    "from sklearn.model_selection import train_test_split\n",
    "x_train ,x_test ,y_train ,y_test = train_test_split(X,y ,test_size= 0.2,random_state=0)\n"
   ]
  },
  {
   "cell_type": "code",
   "execution_count": 103,
   "id": "77f46275",
   "metadata": {},
   "outputs": [],
   "source": [
    "from sklearn.preprocessing import StandardScaler\n",
    "sc = StandardScaler()\n",
    "x_train = sc.fit_transform(x_train)\n",
    "x_test = sc.transform(x_test)"
   ]
  },
  {
   "cell_type": "code",
   "execution_count": 104,
   "id": "2e271b4d",
   "metadata": {},
   "outputs": [
    {
     "data": {
      "text/plain": [
       "array([[-1.01460667, -0.5698444 ,  1.74309049, ...,  0.64259497,\n",
       "        -1.03227043,  1.10643166],\n",
       "       [-1.01460667,  1.75486502, -0.57369368, ...,  0.64259497,\n",
       "         0.9687384 , -0.74866447],\n",
       "       [ 0.98560362, -0.5698444 , -0.57369368, ...,  0.64259497,\n",
       "        -1.03227043,  1.48533467],\n",
       "       ...,\n",
       "       [ 0.98560362, -0.5698444 , -0.57369368, ...,  0.64259497,\n",
       "        -1.03227043,  1.41231994],\n",
       "       [-1.01460667, -0.5698444 ,  1.74309049, ...,  0.64259497,\n",
       "         0.9687384 ,  0.84432121],\n",
       "       [-1.01460667,  1.75486502, -0.57369368, ...,  0.64259497,\n",
       "        -1.03227043,  0.32472465]])"
      ]
     },
     "execution_count": 104,
     "metadata": {},
     "output_type": "execute_result"
    }
   ],
   "source": [
    "x_train"
   ]
  },
  {
   "cell_type": "markdown",
   "id": "16f9a0bf",
   "metadata": {},
   "source": [
    "# Modeling"
   ]
  },
  {
   "cell_type": "code",
   "execution_count": 105,
   "id": "a069ca1e",
   "metadata": {},
   "outputs": [],
   "source": [
    "ann = tf.keras.models.Sequential()"
   ]
  },
  {
   "cell_type": "code",
   "execution_count": 106,
   "id": "19141dd7",
   "metadata": {},
   "outputs": [],
   "source": [
    "ann.add(tf.keras.layers.Dense(units=16 , activation='relu'))"
   ]
  },
  {
   "cell_type": "code",
   "execution_count": 107,
   "id": "69276517",
   "metadata": {},
   "outputs": [],
   "source": [
    "ann.add(tf.keras.layers.Dense(units=16 , activation='relu'))"
   ]
  },
  {
   "cell_type": "code",
   "execution_count": 108,
   "id": "d21cc505",
   "metadata": {},
   "outputs": [],
   "source": [
    "ann.add(tf.keras.layers.Dense(units=1 , activation='sigmoid'))"
   ]
  },
  {
   "cell_type": "code",
   "execution_count": 109,
   "id": "4987fc36",
   "metadata": {},
   "outputs": [
    {
     "name": "stdout",
     "output_type": "stream",
     "text": [
      "Epoch 1/100\n",
      "200/200 [==============================] - 1s 3ms/step - loss: 0.6169 - accuracy: 0.6636 - val_loss: 0.4983 - val_accuracy: 0.7969\n",
      "Epoch 2/100\n",
      "200/200 [==============================] - 0s 2ms/step - loss: 0.4726 - accuracy: 0.7958 - val_loss: 0.4549 - val_accuracy: 0.7944\n",
      "Epoch 3/100\n",
      "200/200 [==============================] - 0s 2ms/step - loss: 0.4399 - accuracy: 0.7984 - val_loss: 0.4385 - val_accuracy: 0.8000\n",
      "Epoch 4/100\n",
      "200/200 [==============================] - 0s 2ms/step - loss: 0.4189 - accuracy: 0.8098 - val_loss: 0.4246 - val_accuracy: 0.8131\n",
      "Epoch 5/100\n",
      "200/200 [==============================] - 0s 2ms/step - loss: 0.3993 - accuracy: 0.8311 - val_loss: 0.4079 - val_accuracy: 0.8238\n",
      "Epoch 6/100\n",
      "200/200 [==============================] - 0s 2ms/step - loss: 0.3783 - accuracy: 0.8445 - val_loss: 0.3903 - val_accuracy: 0.8306\n",
      "Epoch 7/100\n",
      "200/200 [==============================] - 0s 2ms/step - loss: 0.3624 - accuracy: 0.8519 - val_loss: 0.3806 - val_accuracy: 0.8350\n",
      "Epoch 8/100\n",
      "200/200 [==============================] - 0s 2ms/step - loss: 0.3532 - accuracy: 0.8550 - val_loss: 0.3766 - val_accuracy: 0.8406\n",
      "Epoch 9/100\n",
      "200/200 [==============================] - 0s 2ms/step - loss: 0.3489 - accuracy: 0.8558 - val_loss: 0.3723 - val_accuracy: 0.8413\n",
      "Epoch 10/100\n",
      "200/200 [==============================] - 0s 2ms/step - loss: 0.3447 - accuracy: 0.8564 - val_loss: 0.3711 - val_accuracy: 0.8425\n",
      "Epoch 11/100\n",
      "200/200 [==============================] - 0s 2ms/step - loss: 0.3426 - accuracy: 0.8562 - val_loss: 0.3733 - val_accuracy: 0.8438\n",
      "Epoch 12/100\n",
      "200/200 [==============================] - 0s 2ms/step - loss: 0.3402 - accuracy: 0.8584 - val_loss: 0.3667 - val_accuracy: 0.8469\n",
      "Epoch 13/100\n",
      "200/200 [==============================] - 0s 2ms/step - loss: 0.3385 - accuracy: 0.8612 - val_loss: 0.3665 - val_accuracy: 0.8481\n",
      "Epoch 14/100\n",
      "200/200 [==============================] - 0s 2ms/step - loss: 0.3363 - accuracy: 0.8617 - val_loss: 0.3653 - val_accuracy: 0.8462\n",
      "Epoch 15/100\n",
      "200/200 [==============================] - 0s 2ms/step - loss: 0.3351 - accuracy: 0.8627 - val_loss: 0.3642 - val_accuracy: 0.8456\n",
      "Epoch 16/100\n",
      "200/200 [==============================] - 0s 2ms/step - loss: 0.3338 - accuracy: 0.8627 - val_loss: 0.3660 - val_accuracy: 0.8431\n",
      "Epoch 17/100\n",
      "200/200 [==============================] - 0s 2ms/step - loss: 0.3324 - accuracy: 0.8617 - val_loss: 0.3638 - val_accuracy: 0.8444\n",
      "Epoch 18/100\n",
      "200/200 [==============================] - 0s 2ms/step - loss: 0.3316 - accuracy: 0.8627 - val_loss: 0.3616 - val_accuracy: 0.8475\n",
      "Epoch 19/100\n",
      "200/200 [==============================] - 0s 2ms/step - loss: 0.3306 - accuracy: 0.8628 - val_loss: 0.3630 - val_accuracy: 0.8475\n",
      "Epoch 20/100\n",
      "200/200 [==============================] - 0s 2ms/step - loss: 0.3288 - accuracy: 0.8608 - val_loss: 0.3624 - val_accuracy: 0.8419\n",
      "Epoch 21/100\n",
      "200/200 [==============================] - 0s 2ms/step - loss: 0.3286 - accuracy: 0.8616 - val_loss: 0.3635 - val_accuracy: 0.8506\n",
      "Epoch 22/100\n",
      "200/200 [==============================] - 0s 2ms/step - loss: 0.3272 - accuracy: 0.8628 - val_loss: 0.3605 - val_accuracy: 0.8487\n",
      "Epoch 23/100\n",
      "200/200 [==============================] - 0s 2ms/step - loss: 0.3265 - accuracy: 0.8641 - val_loss: 0.3603 - val_accuracy: 0.8494\n",
      "Epoch 24/100\n",
      "200/200 [==============================] - 0s 2ms/step - loss: 0.3262 - accuracy: 0.8620 - val_loss: 0.3617 - val_accuracy: 0.8481\n",
      "Epoch 25/100\n",
      "200/200 [==============================] - 0s 2ms/step - loss: 0.3254 - accuracy: 0.8628 - val_loss: 0.3610 - val_accuracy: 0.8494\n",
      "Epoch 26/100\n",
      "200/200 [==============================] - 0s 2ms/step - loss: 0.3249 - accuracy: 0.8628 - val_loss: 0.3601 - val_accuracy: 0.8506\n",
      "Epoch 27/100\n",
      "200/200 [==============================] - 0s 2ms/step - loss: 0.3248 - accuracy: 0.8620 - val_loss: 0.3613 - val_accuracy: 0.8519\n",
      "Epoch 28/100\n",
      "200/200 [==============================] - 0s 2ms/step - loss: 0.3241 - accuracy: 0.8633 - val_loss: 0.3608 - val_accuracy: 0.8500\n",
      "Epoch 29/100\n",
      "200/200 [==============================] - 0s 2ms/step - loss: 0.3236 - accuracy: 0.8642 - val_loss: 0.3610 - val_accuracy: 0.8519\n",
      "Epoch 30/100\n",
      "200/200 [==============================] - 0s 2ms/step - loss: 0.3224 - accuracy: 0.8641 - val_loss: 0.3609 - val_accuracy: 0.8481\n",
      "Epoch 31/100\n",
      "200/200 [==============================] - 0s 2ms/step - loss: 0.3225 - accuracy: 0.8661 - val_loss: 0.3608 - val_accuracy: 0.8544\n",
      "Epoch 32/100\n",
      "200/200 [==============================] - 0s 2ms/step - loss: 0.3211 - accuracy: 0.8650 - val_loss: 0.3632 - val_accuracy: 0.8500\n",
      "Epoch 33/100\n",
      "200/200 [==============================] - 0s 2ms/step - loss: 0.3213 - accuracy: 0.8648 - val_loss: 0.3613 - val_accuracy: 0.8512\n",
      "Epoch 34/100\n",
      "200/200 [==============================] - 0s 2ms/step - loss: 0.3209 - accuracy: 0.8650 - val_loss: 0.3604 - val_accuracy: 0.8512\n",
      "Epoch 35/100\n",
      "200/200 [==============================] - 0s 2ms/step - loss: 0.3201 - accuracy: 0.8670 - val_loss: 0.3615 - val_accuracy: 0.8556\n",
      "Epoch 36/100\n",
      "200/200 [==============================] - 0s 2ms/step - loss: 0.3202 - accuracy: 0.8639 - val_loss: 0.3613 - val_accuracy: 0.8550\n",
      "Epoch 37/100\n",
      "200/200 [==============================] - 0s 2ms/step - loss: 0.3191 - accuracy: 0.8641 - val_loss: 0.3600 - val_accuracy: 0.8525\n",
      "Epoch 38/100\n",
      "200/200 [==============================] - 0s 2ms/step - loss: 0.3185 - accuracy: 0.8648 - val_loss: 0.3667 - val_accuracy: 0.8550\n",
      "Epoch 39/100\n",
      "200/200 [==============================] - 0s 2ms/step - loss: 0.3189 - accuracy: 0.8647 - val_loss: 0.3605 - val_accuracy: 0.8519\n",
      "Epoch 40/100\n",
      "200/200 [==============================] - 0s 2ms/step - loss: 0.3191 - accuracy: 0.8642 - val_loss: 0.3621 - val_accuracy: 0.8506\n",
      "Epoch 41/100\n",
      "200/200 [==============================] - 0s 2ms/step - loss: 0.3183 - accuracy: 0.8650 - val_loss: 0.3641 - val_accuracy: 0.8506\n",
      "Epoch 42/100\n",
      "200/200 [==============================] - 0s 2ms/step - loss: 0.3180 - accuracy: 0.8653 - val_loss: 0.3615 - val_accuracy: 0.8506\n",
      "Epoch 43/100\n",
      "200/200 [==============================] - 0s 2ms/step - loss: 0.3176 - accuracy: 0.8653 - val_loss: 0.3584 - val_accuracy: 0.8537\n",
      "Epoch 44/100\n",
      "200/200 [==============================] - 0s 2ms/step - loss: 0.3173 - accuracy: 0.8681 - val_loss: 0.3606 - val_accuracy: 0.8525\n",
      "Epoch 45/100\n",
      "200/200 [==============================] - 0s 2ms/step - loss: 0.3164 - accuracy: 0.8650 - val_loss: 0.3626 - val_accuracy: 0.8519\n",
      "Epoch 46/100\n",
      "200/200 [==============================] - 0s 2ms/step - loss: 0.3168 - accuracy: 0.8652 - val_loss: 0.3617 - val_accuracy: 0.8519\n",
      "Epoch 47/100\n",
      "200/200 [==============================] - 0s 2ms/step - loss: 0.3159 - accuracy: 0.8636 - val_loss: 0.3603 - val_accuracy: 0.8562\n",
      "Epoch 48/100\n",
      "200/200 [==============================] - 0s 2ms/step - loss: 0.3154 - accuracy: 0.8686 - val_loss: 0.3646 - val_accuracy: 0.8525\n",
      "Epoch 49/100\n",
      "200/200 [==============================] - 0s 2ms/step - loss: 0.3157 - accuracy: 0.8653 - val_loss: 0.3599 - val_accuracy: 0.8550\n",
      "Epoch 50/100\n",
      "200/200 [==============================] - 0s 2ms/step - loss: 0.3154 - accuracy: 0.8680 - val_loss: 0.3606 - val_accuracy: 0.8531\n",
      "Epoch 51/100\n",
      "200/200 [==============================] - 0s 2ms/step - loss: 0.3152 - accuracy: 0.8669 - val_loss: 0.3623 - val_accuracy: 0.8537\n",
      "Epoch 52/100\n",
      "200/200 [==============================] - 0s 2ms/step - loss: 0.3146 - accuracy: 0.8670 - val_loss: 0.3624 - val_accuracy: 0.8544\n",
      "Epoch 53/100\n",
      "200/200 [==============================] - 0s 2ms/step - loss: 0.3141 - accuracy: 0.8661 - val_loss: 0.3596 - val_accuracy: 0.8500\n",
      "Epoch 54/100\n",
      "200/200 [==============================] - 0s 2ms/step - loss: 0.3146 - accuracy: 0.8672 - val_loss: 0.3637 - val_accuracy: 0.8487\n",
      "Epoch 55/100\n",
      "200/200 [==============================] - 0s 2ms/step - loss: 0.3134 - accuracy: 0.8677 - val_loss: 0.3611 - val_accuracy: 0.8537\n",
      "Epoch 56/100\n",
      "200/200 [==============================] - 0s 2ms/step - loss: 0.3130 - accuracy: 0.8656 - val_loss: 0.3598 - val_accuracy: 0.8512\n",
      "Epoch 57/100\n",
      "200/200 [==============================] - 0s 2ms/step - loss: 0.3138 - accuracy: 0.8672 - val_loss: 0.3674 - val_accuracy: 0.8531\n"
     ]
    },
    {
     "name": "stdout",
     "output_type": "stream",
     "text": [
      "Epoch 58/100\n",
      "200/200 [==============================] - 0s 2ms/step - loss: 0.3131 - accuracy: 0.8673 - val_loss: 0.3616 - val_accuracy: 0.8537\n",
      "Epoch 59/100\n",
      "200/200 [==============================] - 0s 2ms/step - loss: 0.3123 - accuracy: 0.8684 - val_loss: 0.3607 - val_accuracy: 0.8544\n",
      "Epoch 60/100\n",
      "200/200 [==============================] - 0s 2ms/step - loss: 0.3122 - accuracy: 0.8680 - val_loss: 0.3609 - val_accuracy: 0.8506\n",
      "Epoch 61/100\n",
      "200/200 [==============================] - 0s 2ms/step - loss: 0.3120 - accuracy: 0.8669 - val_loss: 0.3632 - val_accuracy: 0.8562\n",
      "Epoch 62/100\n",
      "200/200 [==============================] - 0s 2ms/step - loss: 0.3124 - accuracy: 0.8719 - val_loss: 0.3614 - val_accuracy: 0.8506\n",
      "Epoch 63/100\n",
      "200/200 [==============================] - 0s 2ms/step - loss: 0.3122 - accuracy: 0.8684 - val_loss: 0.3625 - val_accuracy: 0.8519\n",
      "Epoch 64/100\n",
      "200/200 [==============================] - 0s 2ms/step - loss: 0.3112 - accuracy: 0.8666 - val_loss: 0.3624 - val_accuracy: 0.8537\n",
      "Epoch 65/100\n",
      "200/200 [==============================] - 0s 2ms/step - loss: 0.3110 - accuracy: 0.8673 - val_loss: 0.3665 - val_accuracy: 0.8562\n",
      "Epoch 66/100\n",
      "200/200 [==============================] - 0s 2ms/step - loss: 0.3111 - accuracy: 0.8672 - val_loss: 0.3616 - val_accuracy: 0.8550\n",
      "Epoch 67/100\n",
      "200/200 [==============================] - 0s 2ms/step - loss: 0.3109 - accuracy: 0.8666 - val_loss: 0.3628 - val_accuracy: 0.8575\n",
      "Epoch 68/100\n",
      "200/200 [==============================] - 0s 2ms/step - loss: 0.3108 - accuracy: 0.8692 - val_loss: 0.3622 - val_accuracy: 0.8544\n",
      "Epoch 69/100\n",
      "200/200 [==============================] - 0s 2ms/step - loss: 0.3106 - accuracy: 0.8675 - val_loss: 0.3627 - val_accuracy: 0.8531\n",
      "Epoch 70/100\n",
      "200/200 [==============================] - 0s 2ms/step - loss: 0.3096 - accuracy: 0.8670 - val_loss: 0.3624 - val_accuracy: 0.8556\n",
      "Epoch 71/100\n",
      "200/200 [==============================] - 0s 2ms/step - loss: 0.3097 - accuracy: 0.8666 - val_loss: 0.3609 - val_accuracy: 0.8562\n",
      "Epoch 72/100\n",
      "200/200 [==============================] - 0s 2ms/step - loss: 0.3098 - accuracy: 0.8662 - val_loss: 0.3615 - val_accuracy: 0.8506\n",
      "Epoch 73/100\n",
      "200/200 [==============================] - 0s 2ms/step - loss: 0.3094 - accuracy: 0.8681 - val_loss: 0.3633 - val_accuracy: 0.8512\n",
      "Epoch 74/100\n",
      "200/200 [==============================] - 0s 2ms/step - loss: 0.3086 - accuracy: 0.8664 - val_loss: 0.3621 - val_accuracy: 0.8537\n",
      "Epoch 75/100\n",
      "200/200 [==============================] - 0s 2ms/step - loss: 0.3087 - accuracy: 0.8705 - val_loss: 0.3612 - val_accuracy: 0.8544\n",
      "Epoch 76/100\n",
      "200/200 [==============================] - 0s 2ms/step - loss: 0.3090 - accuracy: 0.8678 - val_loss: 0.3610 - val_accuracy: 0.8550\n",
      "Epoch 77/100\n",
      "200/200 [==============================] - 0s 2ms/step - loss: 0.3089 - accuracy: 0.8677 - val_loss: 0.3625 - val_accuracy: 0.8556\n",
      "Epoch 78/100\n",
      "200/200 [==============================] - 0s 2ms/step - loss: 0.3078 - accuracy: 0.8673 - val_loss: 0.3642 - val_accuracy: 0.8519\n",
      "Epoch 79/100\n",
      "200/200 [==============================] - 0s 2ms/step - loss: 0.3083 - accuracy: 0.8664 - val_loss: 0.3652 - val_accuracy: 0.8537\n",
      "Epoch 80/100\n",
      "200/200 [==============================] - 0s 2ms/step - loss: 0.3082 - accuracy: 0.8680 - val_loss: 0.3657 - val_accuracy: 0.8512\n",
      "Epoch 81/100\n",
      "200/200 [==============================] - 0s 2ms/step - loss: 0.3077 - accuracy: 0.8686 - val_loss: 0.3610 - val_accuracy: 0.8525\n",
      "Epoch 82/100\n",
      "200/200 [==============================] - 0s 2ms/step - loss: 0.3082 - accuracy: 0.8667 - val_loss: 0.3619 - val_accuracy: 0.8556\n",
      "Epoch 83/100\n",
      "200/200 [==============================] - 0s 2ms/step - loss: 0.3063 - accuracy: 0.8672 - val_loss: 0.3629 - val_accuracy: 0.8550\n",
      "Epoch 84/100\n",
      "200/200 [==============================] - 0s 2ms/step - loss: 0.3069 - accuracy: 0.8673 - val_loss: 0.3687 - val_accuracy: 0.8544\n",
      "Epoch 85/100\n",
      "200/200 [==============================] - 0s 2ms/step - loss: 0.3072 - accuracy: 0.8709 - val_loss: 0.3613 - val_accuracy: 0.8556\n",
      "Epoch 86/100\n",
      "200/200 [==============================] - 0s 2ms/step - loss: 0.3067 - accuracy: 0.8695 - val_loss: 0.3639 - val_accuracy: 0.8537\n",
      "Epoch 87/100\n",
      "200/200 [==============================] - 0s 2ms/step - loss: 0.3068 - accuracy: 0.8678 - val_loss: 0.3650 - val_accuracy: 0.8544\n",
      "Epoch 88/100\n",
      "200/200 [==============================] - 0s 2ms/step - loss: 0.3061 - accuracy: 0.8687 - val_loss: 0.3658 - val_accuracy: 0.8550\n",
      "Epoch 89/100\n",
      "200/200 [==============================] - 0s 2ms/step - loss: 0.3061 - accuracy: 0.8684 - val_loss: 0.3648 - val_accuracy: 0.8487\n",
      "Epoch 90/100\n",
      "200/200 [==============================] - 0s 2ms/step - loss: 0.3066 - accuracy: 0.8697 - val_loss: 0.3632 - val_accuracy: 0.8519\n",
      "Epoch 91/100\n",
      "200/200 [==============================] - 0s 2ms/step - loss: 0.3056 - accuracy: 0.8694 - val_loss: 0.3682 - val_accuracy: 0.8525\n",
      "Epoch 92/100\n",
      "200/200 [==============================] - 0s 2ms/step - loss: 0.3057 - accuracy: 0.8673 - val_loss: 0.3653 - val_accuracy: 0.8519\n",
      "Epoch 93/100\n",
      "200/200 [==============================] - 0s 2ms/step - loss: 0.3062 - accuracy: 0.8686 - val_loss: 0.3664 - val_accuracy: 0.8525\n",
      "Epoch 94/100\n",
      "200/200 [==============================] - 0s 2ms/step - loss: 0.3052 - accuracy: 0.8717 - val_loss: 0.3641 - val_accuracy: 0.8500\n",
      "Epoch 95/100\n",
      "200/200 [==============================] - 0s 2ms/step - loss: 0.3050 - accuracy: 0.8673 - val_loss: 0.3636 - val_accuracy: 0.8525\n",
      "Epoch 96/100\n",
      "200/200 [==============================] - 0s 2ms/step - loss: 0.3053 - accuracy: 0.8687 - val_loss: 0.3641 - val_accuracy: 0.8537\n",
      "Epoch 97/100\n",
      "200/200 [==============================] - 0s 2ms/step - loss: 0.3044 - accuracy: 0.8697 - val_loss: 0.3640 - val_accuracy: 0.8544\n",
      "Epoch 98/100\n",
      "200/200 [==============================] - 0s 2ms/step - loss: 0.3047 - accuracy: 0.8689 - val_loss: 0.3632 - val_accuracy: 0.8544\n",
      "Epoch 99/100\n",
      "200/200 [==============================] - 0s 2ms/step - loss: 0.3046 - accuracy: 0.8692 - val_loss: 0.3653 - val_accuracy: 0.8500\n",
      "Epoch 100/100\n",
      "200/200 [==============================] - 0s 2ms/step - loss: 0.3043 - accuracy: 0.8705 - val_loss: 0.3668 - val_accuracy: 0.8531\n"
     ]
    }
   ],
   "source": [
    "ann.compile(optimizer='adam' ,loss='binary_crossentropy' ,metrics=['accuracy'])\n",
    "history =ann.fit(x_train , y_train , batch_size=32 , epochs=100,validation_split=0.2)"
   ]
  },
  {
   "cell_type": "markdown",
   "id": "062dcf90",
   "metadata": {},
   "source": [
    "# Single Prediction"
   ]
  },
  {
   "cell_type": "code",
   "execution_count": 110,
   "id": "a1165cae",
   "metadata": {
    "scrolled": true
   },
   "outputs": [
    {
     "name": "stdout",
     "output_type": "stream",
     "text": [
      "1/1 [==============================] - 0s 39ms/step\n",
      "[[False]]\n"
     ]
    }
   ],
   "source": [
    "print(ann.predict(sc.transform([[1 ,0 ,0 ,600 ,1 ,40 ,3 ,60000 ,2 ,1 ,1 ,50000]]))>0.5)"
   ]
  },
  {
   "cell_type": "code",
   "execution_count": 111,
   "id": "fd6da868",
   "metadata": {},
   "outputs": [
    {
     "name": "stdout",
     "output_type": "stream",
     "text": [
      "(8000, 12)\n"
     ]
    }
   ],
   "source": [
    "print(x_train.shape)"
   ]
  },
  {
   "cell_type": "code",
   "execution_count": 112,
   "id": "16e631b8",
   "metadata": {},
   "outputs": [
    {
     "name": "stdout",
     "output_type": "stream",
     "text": [
      "[0.0 0.0 1.0 608 0 41 1 83807.86 1 0 1 112542.58]\n"
     ]
    }
   ],
   "source": [
    "print(X [1,:])"
   ]
  },
  {
   "cell_type": "code",
   "execution_count": 113,
   "id": "a3f6619d",
   "metadata": {},
   "outputs": [
    {
     "name": "stdout",
     "output_type": "stream",
     "text": [
      "63/63 [==============================] - 0s 595us/step\n",
      "[[0 0]\n",
      " [0 1]\n",
      " [0 0]\n",
      " ...\n",
      " [0 0]\n",
      " [0 0]\n",
      " [0 0]]\n"
     ]
    }
   ],
   "source": [
    "y_pred = ann.predict(x_test)\n",
    "y_pred = (y_pred >0.5)\n",
    "print(np.concatenate((y_pred.reshape(len(y_pred),1),y_test.reshape(len(y_test),1)),1))"
   ]
  },
  {
   "cell_type": "markdown",
   "id": "c3f6c081",
   "metadata": {},
   "source": [
    "# Test Results"
   ]
  },
  {
   "cell_type": "code",
   "execution_count": 114,
   "id": "98c4c335",
   "metadata": {},
   "outputs": [
    {
     "name": "stdout",
     "output_type": "stream",
     "text": [
      "[[1516  201]\n",
      " [  79  204]]\n",
      "86.0\n"
     ]
    }
   ],
   "source": [
    "from sklearn.metrics import confusion_matrix,accuracy_score\n",
    "print(confusion_matrix(y_pred,y_test))\n",
    "print(accuracy_score(y_pred,y_test)*100)"
   ]
  },
  {
   "cell_type": "code",
   "execution_count": 115,
   "id": "8c4ac4a6",
   "metadata": {},
   "outputs": [],
   "source": [
    "import matplotlib.pyplot as plt"
   ]
  },
  {
   "cell_type": "code",
   "execution_count": 116,
   "id": "e3895c4c",
   "metadata": {},
   "outputs": [
    {
     "data": {
      "image/png": "[encoded data removed]",
      "text/plain": [
       "<Figure size 640x480 with 1 Axes>"
      ]
     },
     "metadata": {},
     "output_type": "display_data"
    }
   ],
   "source": [
    "plt.plot(history.history['val_accuracy'],label = 'val_accuracy')\n",
    "plt.plot(history.history['accuracy'],label = 'accuracy')\n",
    "plt.legend()\n",
    "plt.show()\n"
   ]
  },
  {
   "cell_type": "code",
   "execution_count": 117,
   "id": "36d532fb",
   "metadata": {},
   "outputs": [
    {
     "data": {
      "image/png": "[encoded data removed]",
      "text/plain": [
       "<Figure size 640x480 with 1 Axes>"
      ]
     },
     "metadata": {},
     "output_type": "display_data"
    }
   ],
   "source": [
    "plt.plot(history.history['loss'],label = 'loss')\n",
    "plt.plot(history.history['val_loss'],label = 'val_loss')\n",
    "plt.legend()\n",
    "plt.show()\n"
   ]
  },
  {
   "cell_type": "code",
   "execution_count": null,
   "id": "befe8ce0",
   "metadata": {},
   "outputs": [],
   "source": []
  }
 ],
 "metadata": {
  "kernelspec": {
   "display_name": "Python 3 (ipykernel)",
   "language": "python",
   "name": "python3"
  },
  "language_info": {
   "codemirror_mode": {
    "name": "ipython",
    "version": 3
   },
   "file_extension": ".py",
   "mimetype": "text/x-python",
   "name": "python",
   "nbconvert_exporter": "python",
   "pygments_lexer": "ipython3",
   "version": "3.9.12"
  }
 },
 "nbformat": 4,
 "nbformat_minor": 5
}
